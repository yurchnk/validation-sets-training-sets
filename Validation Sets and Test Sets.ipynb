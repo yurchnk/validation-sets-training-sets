{
 "cells": [
  {
   "cell_type": "code",
   "execution_count": 1,
   "id": "4cc206c9",
   "metadata": {},
   "outputs": [
    {
     "name": "stderr",
     "output_type": "stream",
     "text": [
      "2024-01-04 10:34:39.506649: I external/local_tsl/tsl/cuda/cudart_stub.cc:31] Could not find cuda drivers on your machine, GPU will not be used.\n",
      "2024-01-04 10:34:39.819266: E external/local_xla/xla/stream_executor/cuda/cuda_dnn.cc:9261] Unable to register cuDNN factory: Attempting to register factory for plugin cuDNN when one has already been registered\n",
      "2024-01-04 10:34:39.819384: E external/local_xla/xla/stream_executor/cuda/cuda_fft.cc:607] Unable to register cuFFT factory: Attempting to register factory for plugin cuFFT when one has already been registered\n",
      "2024-01-04 10:34:39.877484: E external/local_xla/xla/stream_executor/cuda/cuda_blas.cc:1515] Unable to register cuBLAS factory: Attempting to register factory for plugin cuBLAS when one has already been registered\n",
      "2024-01-04 10:34:40.000204: I external/local_tsl/tsl/cuda/cudart_stub.cc:31] Could not find cuda drivers on your machine, GPU will not be used.\n",
      "2024-01-04 10:34:40.006183: I tensorflow/core/platform/cpu_feature_guard.cc:182] This TensorFlow binary is optimized to use available CPU instructions in performance-critical operations.\n",
      "To enable the following instructions: AVX2, in other operations, rebuild TensorFlow with the appropriate compiler flags.\n",
      "2024-01-04 10:34:41.705892: W tensorflow/compiler/tf2tensorrt/utils/py_utils.cc:38] TF-TRT Warning: Could not find TensorRT\n"
     ]
    }
   ],
   "source": [
    "#@title Import modules\n",
    "import numpy as np\n",
    "import pandas as pd\n",
    "import tensorflow as tf\n",
    "from matplotlib import pyplot as plt\n",
    "\n",
    "pd.options.display.max_rows = 10\n",
    "pd.options.display.float_format = \"{:.1f}\".format\n"
   ]
  },
  {
   "cell_type": "code",
   "execution_count": 2,
   "id": "6ce456d8",
   "metadata": {},
   "outputs": [],
   "source": [
    "# Load the dataset from internet\n",
    "train_df = pd.read_csv(\"https://download.mlcc.google.com/mledu-datasets/california_housing_train.csv\")\n",
    "test_df = pd.read_csv(\"https://download.mlcc.google.com/mledu-datasets/california_housing_test.csv\")"
   ]
  },
  {
   "cell_type": "code",
   "execution_count": 3,
   "id": "6db7c5fb",
   "metadata": {},
   "outputs": [],
   "source": [
    "# Scale the label values\n",
    "scale_factor = 1000.0\n",
    "\n",
    "    #Scale the training set`s label\n",
    "train_df[\"median_house_value\"] /= scale_factor\n",
    "\n",
    "    #Scale the test set's label\n",
    "test_df[\"median_house_value\"] /= scale_factor"
   ]
  },
  {
   "cell_type": "code",
   "execution_count": 4,
   "id": "c47e286b",
   "metadata": {},
   "outputs": [],
   "source": [
    "# Build the model\n",
    "def build_model(my_learning_rate):\n",
    "    \"\"\"create the easy linear regression model by using sequential\"\"\"\n",
    "    model = tf.keras.models.Sequential()\n",
    "    \n",
    "    # add a linear layer to the model to yield a simple linear regressor\n",
    "    \n",
    "    model.add(tf.keras.layers.Dense(units=1, input_shape=(1,)))\n",
    "    \n",
    "    \n",
    "    #compile the model that TensorFlow can efficiently execute\n",
    "    model.compile(optimizer=tf.keras.optimizers.experimental.RMSprop(learning_rate = my_learning_rate),\n",
    "                 loss=\"mean_squared_error\",\n",
    "                 metrics=[tf.keras.metrics.RootMeanSquaredError()])\n",
    "    return model\n",
    "\n",
    "#Train the model\n",
    "def train_model(model, df, feature, label, my_epochs,\n",
    "               my_batch_size=None, my_validation_split=0.1):\n",
    "    \n",
    "    history = model.fit(x= df[feature],\n",
    "                       y= df[label],\n",
    "                       batch_size = my_batch_size,\n",
    "                       epochs = my_epochs,\n",
    "                       validation_split = my_validation_split)\n",
    "    \n",
    "    #the model's trained weight and bias\n",
    "    trained_weight = model.get_weights()[0]\n",
    "    trained_bias = model.get_weights()[1]\n",
    "    \n",
    "    #the list of epochs is stored separately from the rest of history\n",
    "    epochs = history.epoch\n",
    "    \n",
    "    #Isolate the RMSE for each epoch\n",
    "    hist = pd.DataFrame(history.history)\n",
    "    rmse = hist[\"root_mean_squared_error\"]\n",
    "    \n",
    "    return epochs, rmse, history.history\n",
    "    \n",
    "    "
   ]
  },
  {
   "cell_type": "markdown",
   "id": "6d0fb80f",
   "metadata": {},
   "source": [
    "## Define the plotting function"
   ]
  },
  {
   "cell_type": "code",
   "execution_count": 5,
   "id": "a919f93d",
   "metadata": {},
   "outputs": [],
   "source": [
    "def plot_the_loss_curve(epochs, mae_training, mae_validation):\n",
    "    plt.figure()\n",
    "    plt.xlabel(\"Epoch\")\n",
    "    plt.ylabel(\"Root Mean Squared Error\")\n",
    "    \n",
    "    plt.plot(epochs[1:], mae_training[1:], label=\"Training loss\")\n",
    "    plt.plot(epochs[1:], mae_validation[1:], label=\"Validation loss\")\n",
    "    plt.legend()\n",
    "    \n",
    "    \n",
    "    \"\"\"I'm not going to plot the first epoch, because the loss on the first epoch is often greater then \n",
    "    the loss on other epoch\"\"\"\n",
    "    \n",
    "    merged_mae_list = mae_training[1:] + mae_validation[1:]\n",
    "    highest_loss = max(merged_mae_list)\n",
    "    lowest_loss = min(merged_mae_list)\n",
    "    delta = highest_loss - lowest_loss\n",
    "    print(delta)\n",
    "    \n",
    "    top_of_y_axis = highest_loss + (delta * 0.5)\n",
    "    bottom_of_y_axis = lowest_loss + (delta * 0.5)\n",
    "    \n",
    "    plt.ylim([bottom_of_y_axis, top_of_y_axis])\n",
    "    plt.show()\n",
    "    "
   ]
  },
  {
   "cell_type": "code",
   "execution_count": 6,
   "id": "33605942",
   "metadata": {},
   "outputs": [
    {
     "name": "stdout",
     "output_type": "stream",
     "text": [
      "Epoch 1/30\n",
      "136/136 [==============================] - 1s 3ms/step - loss: 11641.6943 - root_mean_squared_error: 107.8967 - val_loss: 8994.8438 - val_root_mean_squared_error: 94.8411\n",
      "Epoch 2/30\n",
      "136/136 [==============================] - 0s 3ms/step - loss: 6531.7808 - root_mean_squared_error: 80.8194 - val_loss: 8978.4023 - val_root_mean_squared_error: 94.7544\n",
      "Epoch 3/30\n",
      "136/136 [==============================] - 0s 3ms/step - loss: 6533.8242 - root_mean_squared_error: 80.8321 - val_loss: 9701.0527 - val_root_mean_squared_error: 98.4939\n",
      "Epoch 4/30\n",
      "136/136 [==============================] - 0s 2ms/step - loss: 6532.8486 - root_mean_squared_error: 80.8260 - val_loss: 9021.1211 - val_root_mean_squared_error: 94.9796\n",
      "Epoch 5/30\n",
      "136/136 [==============================] - 0s 3ms/step - loss: 6535.7334 - root_mean_squared_error: 80.8439 - val_loss: 9317.0605 - val_root_mean_squared_error: 96.5249\n",
      "Epoch 6/30\n",
      "136/136 [==============================] - 0s 2ms/step - loss: 6527.3193 - root_mean_squared_error: 80.7918 - val_loss: 9147.2500 - val_root_mean_squared_error: 95.6413\n",
      "Epoch 7/30\n",
      "136/136 [==============================] - 0s 3ms/step - loss: 6532.4307 - root_mean_squared_error: 80.8235 - val_loss: 9365.2012 - val_root_mean_squared_error: 96.7740\n",
      "Epoch 8/30\n",
      "136/136 [==============================] - 0s 3ms/step - loss: 6531.6548 - root_mean_squared_error: 80.8187 - val_loss: 9398.6348 - val_root_mean_squared_error: 96.9466\n",
      "Epoch 9/30\n",
      "136/136 [==============================] - 0s 3ms/step - loss: 6534.2598 - root_mean_squared_error: 80.8348 - val_loss: 9537.1504 - val_root_mean_squared_error: 97.6583\n",
      "Epoch 10/30\n",
      "136/136 [==============================] - 0s 2ms/step - loss: 6522.3862 - root_mean_squared_error: 80.7613 - val_loss: 10245.9297 - val_root_mean_squared_error: 101.2222\n",
      "Epoch 11/30\n",
      "136/136 [==============================] - 0s 3ms/step - loss: 6532.3047 - root_mean_squared_error: 80.8227 - val_loss: 8874.6240 - val_root_mean_squared_error: 94.2052\n",
      "Epoch 12/30\n",
      "136/136 [==============================] - 0s 3ms/step - loss: 6529.2153 - root_mean_squared_error: 80.8036 - val_loss: 9211.8564 - val_root_mean_squared_error: 95.9784\n",
      "Epoch 13/30\n",
      "136/136 [==============================] - 0s 3ms/step - loss: 6533.8013 - root_mean_squared_error: 80.8319 - val_loss: 8961.0361 - val_root_mean_squared_error: 94.6628\n",
      "Epoch 14/30\n",
      "136/136 [==============================] - 0s 3ms/step - loss: 6534.7358 - root_mean_squared_error: 80.8377 - val_loss: 9536.9434 - val_root_mean_squared_error: 97.6573\n",
      "Epoch 15/30\n",
      "136/136 [==============================] - 0s 3ms/step - loss: 6524.4863 - root_mean_squared_error: 80.7743 - val_loss: 9270.1611 - val_root_mean_squared_error: 96.2817\n",
      "Epoch 16/30\n",
      "136/136 [==============================] - 0s 3ms/step - loss: 6531.4492 - root_mean_squared_error: 80.8174 - val_loss: 9156.2168 - val_root_mean_squared_error: 95.6881\n",
      "Epoch 17/30\n",
      "136/136 [==============================] - 0s 3ms/step - loss: 6528.7119 - root_mean_squared_error: 80.8004 - val_loss: 9577.3457 - val_root_mean_squared_error: 97.8639\n",
      "Epoch 18/30\n",
      "136/136 [==============================] - 0s 2ms/step - loss: 6528.3359 - root_mean_squared_error: 80.7981 - val_loss: 8891.4209 - val_root_mean_squared_error: 94.2943\n",
      "Epoch 19/30\n",
      "136/136 [==============================] - 0s 3ms/step - loss: 6530.5693 - root_mean_squared_error: 80.8119 - val_loss: 8949.8984 - val_root_mean_squared_error: 94.6039\n",
      "Epoch 20/30\n",
      "136/136 [==============================] - 0s 2ms/step - loss: 6530.5137 - root_mean_squared_error: 80.8116 - val_loss: 9192.1875 - val_root_mean_squared_error: 95.8759\n",
      "Epoch 21/30\n",
      "136/136 [==============================] - 0s 3ms/step - loss: 6530.8252 - root_mean_squared_error: 80.8135 - val_loss: 8853.2529 - val_root_mean_squared_error: 94.0917\n",
      "Epoch 22/30\n",
      "136/136 [==============================] - 0s 2ms/step - loss: 6531.3359 - root_mean_squared_error: 80.8167 - val_loss: 9629.6611 - val_root_mean_squared_error: 98.1308\n",
      "Epoch 23/30\n",
      "136/136 [==============================] - 0s 2ms/step - loss: 6530.5757 - root_mean_squared_error: 80.8120 - val_loss: 9679.5684 - val_root_mean_squared_error: 98.3848\n",
      "Epoch 24/30\n",
      "136/136 [==============================] - 0s 3ms/step - loss: 6525.9316 - root_mean_squared_error: 80.7832 - val_loss: 8800.2900 - val_root_mean_squared_error: 93.8099\n",
      "Epoch 25/30\n",
      "136/136 [==============================] - 0s 3ms/step - loss: 6534.5566 - root_mean_squared_error: 80.8366 - val_loss: 9234.1846 - val_root_mean_squared_error: 96.0947\n",
      "Epoch 26/30\n",
      "136/136 [==============================] - 1s 4ms/step - loss: 6528.2153 - root_mean_squared_error: 80.7974 - val_loss: 9410.5615 - val_root_mean_squared_error: 97.0080\n",
      "Epoch 27/30\n",
      "136/136 [==============================] - 1s 4ms/step - loss: 6543.9746 - root_mean_squared_error: 80.8948 - val_loss: 9505.1826 - val_root_mean_squared_error: 97.4945\n",
      "Epoch 28/30\n",
      "136/136 [==============================] - 0s 3ms/step - loss: 6531.8994 - root_mean_squared_error: 80.8202 - val_loss: 9803.5322 - val_root_mean_squared_error: 99.0128\n",
      "Epoch 29/30\n",
      "136/136 [==============================] - 0s 3ms/step - loss: 6533.7075 - root_mean_squared_error: 80.8314 - val_loss: 9332.1504 - val_root_mean_squared_error: 96.6031\n",
      "Epoch 30/30\n",
      "136/136 [==============================] - 0s 3ms/step - loss: 6528.2378 - root_mean_squared_error: 80.7975 - val_loss: 8804.1768 - val_root_mean_squared_error: 93.8306\n",
      "20.460891723632812\n"
     ]
    },
    {
     "data": {
      "image/png": "[encoded data removed]",
      "text/plain": [
       "<Figure size 640x480 with 1 Axes>"
      ]
     },
     "metadata": {},
     "output_type": "display_data"
    }
   ],
   "source": [
    "#hyperparamets\n",
    "learning_rate = 0.8\n",
    "epochs = 30\n",
    "batch_size = 100\n",
    "\n",
    "validation_split = 0.2\n",
    "\n",
    "my_feature = \"median_income\"\n",
    "my_label = \"median_house_value\"\n",
    "\n",
    "#Invoke our buildng and training functions\n",
    "my_model = build_model(learning_rate)\n",
    "epochs,rmse, history = train_model(my_model, train_df, my_feature,\n",
    "                                  my_label, epochs, batch_size,\n",
    "                                  validation_split)\n",
    "\n",
    "plot_the_loss_curve(epochs, history[\"root_mean_squared_error\"],\n",
    "                   history[\"val_root_mean_squared_error\"])\n"
   ]
  },
  {
   "cell_type": "code",
   "execution_count": null,
   "id": "94d3d06e",
   "metadata": {},
   "outputs": [],
   "source": [
    "\n"
   ]
  },
  {
   "cell_type": "code",
   "execution_count": null,
   "id": "1eff8c5e",
   "metadata": {},
   "outputs": [],
   "source": []
  },
  {
   "cell_type": "code",
   "execution_count": null,
   "id": "1c1df0cd",
   "metadata": {},
   "outputs": [],
   "source": []
  },
  {
   "cell_type": "code",
   "execution_count": null,
   "id": "311d6199",
   "metadata": {},
   "outputs": [],
   "source": []
  }
 ],
 "metadata": {
  "kernelspec": {
   "display_name": "Python 3 (ipykernel)",
   "language": "python",
   "name": "python3"
  },
  "language_info": {
   "codemirror_mode": {
    "name": "ipython",
    "version": 3
   },
   "file_extension": ".py",
   "mimetype": "text/x-python",
   "name": "python",
   "nbconvert_exporter": "python",
   "pygments_lexer": "ipython3",
   "version": "3.11.5"
  }
 },
 "nbformat": 4,
 "nbformat_minor": 5
}
